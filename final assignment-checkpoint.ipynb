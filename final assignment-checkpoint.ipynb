{
 "cells": [
  {
   "cell_type": "code",
   "execution_count": null,
   "id": "fa33fb62",
   "metadata": {},
   "outputs": [],
   "source": [
    "#Question 1\n",
    "#What data type is each of the following\n",
    "\n",
    "a=5\n",
    "b=5.0\n",
    "c=5 > 1\n",
    "d='5'\n",
    "e=5 * 2\n",
    "f='5' * 2\n",
    "g='5' + '2'\n",
    "h=5 / 2\n",
    "i=5 % 2\n",
    "j={5, 2, 1}\n",
    "k=5 == 3\n",
    "k=3.14\n",
    "\n",
    "print(type(a))\n",
    "print(type(b))\n",
    "print(type(c))\n",
    "print(type(d))\n",
    "print(type(e))\n",
    "print(type(f))\n",
    "print(type(g))\n",
    "print(type(h))\n",
    "print(type(i))\n",
    "print(type(j))\n",
    "print(type(k))"
   ]
  },
  {
   "cell_type": "code",
   "execution_count": null,
   "id": "65341606",
   "metadata": {},
   "outputs": [],
   "source": [
    "#Question 2\n",
    "# a Write (and evaluate) python expressions that answer these questions:\n",
    "x= 'Supercalifragilisticexpialidocious'\n",
    "\n",
    "len(x)\n"
   ]
  },
  {
   "cell_type": "code",
   "execution_count": null,
   "id": "9361606c",
   "metadata": {},
   "outputs": [],
   "source": [
    "#Question 2\n",
    "# b Does 'Supercalifragilisticexpialidocious' contain 'ice' as a substring? \n",
    "\n",
    "x= 'Supercalifragilisticexpialidocious'\n",
    "'ice' in x"
   ]
  },
  {
   "cell_type": "code",
   "execution_count": null,
   "id": "b4e4214f",
   "metadata": {},
   "outputs": [],
   "source": [
    "#Question 2\n",
    "# c Which of the following words is the longest:\n",
    "#Supercalifragilisticexpialidocious, Honorificabilitudinitatibus, or\n",
    "#Bababadalgharaghtakamminarronnkonn?\n",
    "\n",
    "array=['Supercalifragilisticexpialidocious', 'Honorificabilitudinitatibus','Bababadalgharaghtakamminarronnkonn'\n",
    "]\n",
    "max_len = -1 \n",
    "for element in array:\n",
    "    if len(element) > max_len:\n",
    "        max_len = len(element)\n",
    "        result = element\n",
    "        print(result)\n",
    "    "
   ]
  },
  {
   "cell_type": "code",
   "execution_count": null,
   "id": "e0a53a2a",
   "metadata": {},
   "outputs": [],
   "source": [
    "#Question 2\n",
    "# d Which composer comes first in the dictionary: 'Berlioz', 'Borodin', 'Brian',\n",
    "#'Bartok', 'Bellini', 'Buxtehude', 'Bernstein'. Which one comes last?\n",
    "\n",
    "composer= ['Berlioz', 'Borodin', 'Brian',\n",
    "'Bartok', 'Bellini', 'Buxtehude', 'Bernstein']\n",
    "sorted_composer=sorted(composer)\n",
    "print(sorted_composer)\n",
    "print('first composer:',sorted_composer[0])\n",
    "print('last composer:',sorted_composer[-1])\n"
   ]
  },
  {
   "cell_type": "code",
   "execution_count": null,
   "id": "ebeab821",
   "metadata": {},
   "outputs": [],
   "source": [
    "#Question 3\n",
    "#Implement function triangleArea(a,b,c) that takes as input the lengths of the 3\n",
    "#sides of a triangle and returns the area of the triangle. By Heron's formula, the area\n",
    "#of a triangle with side lengths a, b, and c is s(s - a)(s -b)(s -c), where s = (a+b+c)/2\n",
    "\n",
    "import math\n",
    "def triangleArea(a, b, c,):\n",
    "    side_lenghts = a + b + c\n",
    "    s = (a + b + c) / 2\n",
    "    Area = math.sqrt((s*(s-a)*(s-b)*(s-c)))\n",
    "    print(\"The Area of a triangle is:\",Area)\n",
    "triangleArea(2, 2, 2)\n"
   ]
  },
  {
   "cell_type": "code",
   "execution_count": null,
   "id": "d44d10a3",
   "metadata": {},
   "outputs": [],
   "source": [
    "#Question 4\n",
    "#Write a program in python to separate odd and even integers in separate arrays. Go to the editor\n",
    "\n",
    "data = [25,47,42,56,32]\n",
    "\n",
    "def Split(data):\n",
    "    even = []\n",
    "    odd = []\n",
    "    for i in data:\n",
    "        if (i % 2 == 0):\n",
    "            even.append(i)\n",
    "        else:\n",
    "            odd.append(i)\n",
    "    print(\"The Even elements are:\", even)\n",
    "    print(\"The Odd elements are:\", odd)\n",
    "  \n",
    "Split(data)\n"
   ]
  },
  {
   "cell_type": "code",
   "execution_count": null,
   "id": "fe7bd8ed",
   "metadata": {},
   "outputs": [],
   "source": [
    "#Question 5\n",
    "#a. Write a function inside(x,y,x1,y1,x2,y2) that returns True or False depending on whether the point (x,y) lies in the rectangle with lower left\n",
    "#corner (x1,y1) and upper right corner (x2,y2).\n",
    "\n",
    "def inside(x,y,x1, y1, x2,y2) :\n",
    "    if (x > x1 and x < x2 and\n",
    "        y > y1 and y < y2) :\n",
    "        print ('True')\n",
    "    else :\n",
    "        print ('False')\n",
    " \n",
    "if __name__ == \"__main__\" :\n",
    " \n",
    " \n",
    "    if inside(1,1,0,0,-2,-3) :\n",
    "        print(\"True\")\n",
    "    else :\n",
    "        print(\"False\")"
   ]
  },
  {
   "cell_type": "code",
   "execution_count": null,
   "id": "0f268402",
   "metadata": {},
   "outputs": [],
   "source": [
    "#Question 5\n",
    "#b. Use function inside() from part a. to write an expression that tests whether\n",
    "#the point (1,1) lies in both of the following rectangles: one with lower left\n",
    "#corner (0.3, 0.5) and upper right corner (1.1, 0.7) and the other with lower\n",
    "#left corner (0.5, 0.2) and upper right corner (1.1, 2).\n",
    "\n",
    "def inside(x,y,x1, y1, x2,\n",
    "              y2) :\n",
    "    if (x > x1 and x < x2 and\n",
    "        y > y1 and y < y2) :\n",
    "        return True\n",
    "    else :\n",
    "        return False\n",
    " \n",
    "if __name__ == \"__main__\" :\n",
    " \n",
    "    x1 , y1 =0.3, 0.5,\n",
    "    x2 , y2 = 1.1, 0.7,\n",
    " \n",
    "   \n",
    "    x, y = 1, 1\n",
    "    if inside(x,y,x1, y1, x2,y2) :\n",
    "        print(\"True\")\n",
    "    else :\n",
    "        print(\"False\")"
   ]
  },
  {
   "cell_type": "code",
   "execution_count": null,
   "id": "d270bd0c",
   "metadata": {},
   "outputs": [],
   "source": [
    "#Question 5\n",
    "#b. Use function inside() from part a. to write an expression that tests whether\n",
    "#the point (1,1) lies in both of the following rectangles: one with lower left\n",
    "#corner (0.3, 0.5) and upper right corner (1.1, 0.7) and the other with lower\n",
    "#left corner (0.5, 0.2) and upper right corner (1.1, 2).\n",
    "\n",
    "#for second points\n",
    "\n",
    "def inside(x,y,x1, y1, x2,\n",
    "              y2) :\n",
    "    if (x > x1 and x < x2 and\n",
    "        y > y1 and y < y2) :\n",
    "        return True\n",
    "    else :\n",
    "        return False\n",
    " \n",
    "if __name__ == \"__main__\" :\n",
    " \n",
    "    x1 , y1 =0.5,0.2,\n",
    "    x2 , y2 = 1.1, 2,\n",
    " \n",
    "   \n",
    "    x, y = 1, 1\n",
    "    if inside(x,y,x1, y1, x2,y2) :\n",
    "        print(\"True\")\n",
    "    else :\n",
    "        print(\"False\")"
   ]
  },
  {
   "cell_type": "code",
   "execution_count": null,
   "id": "19a1f1bc",
   "metadata": {},
   "outputs": [],
   "source": [
    "#Question 6\n",
    "\n",
    "pigLatin = \"Amazon\"\n",
    "wordList = pigLatin.lower().split(\" \")\n",
    "vowels = ['a', 'e', 'i', 'o', 'u']\n",
    "pigLatin = []\n",
    "eachWord = []\n",
    "for word in wordList:\n",
    "    if word[0] in 'aeiou': \n",
    "        pigLatin.append(word + 'way')\n",
    "    else:\n",
    "        for letter in word:\n",
    "            if letter in 'aeiou':\n",
    "                pigLatin.append(word[word.index(letter):] + word[:word.index(letter)] +'ay')\n",
    "                break\n",
    "\n",
    "\n",
    "print(\" \".join(pigLatin))"
   ]
  },
  {
   "cell_type": "code",
   "execution_count": null,
   "id": "7a2d7804",
   "metadata": {},
   "outputs": [],
   "source": [
    "#Question 6\n",
    "\n",
    "pigLatin = \"HAND\"\n",
    "wordList = pigLatin.lower().split(\" \")\n",
    "vowels = ['a', 'e', 'i', 'o', 'u']\n",
    "pigLatin = []\n",
    "eachWord = []\n",
    "for word in wordList:\n",
    "    if word[0] in 'aeiou': \n",
    "        pigLatin.append(word + 'way')\n",
    "    else:\n",
    "        for letter in word:\n",
    "            if letter in 'aeiou':\n",
    "                pigLatin.append(word[word.index(letter):] + word[:word.index(letter)] +'ay')\n",
    "                break\n",
    "\n",
    "\n",
    "print(\" \".join(pigLatin))"
   ]
  },
  {
   "cell_type": "code",
   "execution_count": null,
   "id": "5594e493",
   "metadata": {},
   "outputs": [],
   "source": [
    "#Question 9\n",
    "#Each of the following will cause an exception (an error). Identify what type of exception each will cause\n",
    "#Trying to add incompatible variables, as in adding 6 + ‘a’\n",
    "\n",
    "item1=6\n",
    "item2='a'\n",
    "sum=item1+item2\n",
    "print(sum)"
   ]
  },
  {
   "cell_type": "code",
   "execution_count": null,
   "id": "4d6ad3a1",
   "metadata": {},
   "outputs": [],
   "source": [
    "#Question 9\n",
    "#Each of the following will cause an exception (an error). Identify what type of exception each will cause\n",
    "#Referring to the 12th item of a list that has only 10 items\n",
    "\n",
    "data=['a','b','c','d','e','f','g','h','i','j']\n",
    "print(data[12])"
   ]
  },
  {
   "cell_type": "code",
   "execution_count": null,
   "id": "1ab69ec4",
   "metadata": {},
   "outputs": [],
   "source": [
    "#Question 9\n",
    "#Each of the following will cause an exception (an error). Identify what type of exception each will cause\n",
    "#Using a value that is out of range for a function’s input, such as calling math.sqrt(-1.0)\n",
    "\n",
    "import math\n",
    "print (math.factorial(-5))"
   ]
  },
  {
   "cell_type": "code",
   "execution_count": null,
   "id": "4a4bf2a4",
   "metadata": {},
   "outputs": [],
   "source": [
    "#Question 9\n",
    "#Each of the following will cause an exception (an error). Identify what type of exception each will cause\n",
    "#Using an undeclared variable, such as print(x) when x has not been defined \n",
    "\n",
    "num1=1\n",
    "num2=3\n",
    "add=num1+num2\n",
    "print(ad)"
   ]
  },
  {
   "cell_type": "code",
   "execution_count": null,
   "id": "ab9cc083",
   "metadata": {},
   "outputs": [],
   "source": [
    "#Question 9\n",
    "#Each of the following will cause an exception (an error). Identify what type of exception each will cause\n",
    "#Trying to open a file that does not exist, such as mistyping the file name or looking in the wrong directory. \n",
    "\n",
    "file = 'D:\\\\temp\\\\test.txt'\n",
    "openFile = open(file, 'w' )\n",
    "print(openFile)"
   ]
  }
 ],
 "metadata": {
  "kernelspec": {
   "display_name": "Python 3 (ipykernel)",
   "language": "python",
   "name": "python3"
  },
  "language_info": {
   "codemirror_mode": {
    "name": "ipython",
    "version": 3
   },
   "file_extension": ".py",
   "mimetype": "text/x-python",
   "name": "python",
   "nbconvert_exporter": "python",
   "pygments_lexer": "ipython3",
   "version": "3.9.12"
  }
 },
 "nbformat": 4,
 "nbformat_minor": 5
}
